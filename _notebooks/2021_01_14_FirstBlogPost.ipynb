{
  "nbformat": 4,
  "nbformat_minor": 0,
  "metadata": {
    "colab": {
      "name": "2021-01-14-FirstBlogPost.ipynb",
      "provenance": [],
      "collapsed_sections": [],
      "toc_visible": true,
      "authorship_tag": "ABX9TyM2K+2l1322l1sQ1zuWRQyI",
      "include_colab_link": true
    },
    "kernelspec": {
      "name": "python3",
      "display_name": "Python 3"
    }
  },
  "cells": [
    {
      "cell_type": "markdown",
      "metadata": {
        "id": "view-in-github",
        "colab_type": "text"
      },
      "source": [
        "<a href=\"https://colab.research.google.com/github/hannahescandon/Blog/blob/master/_notebooks/2021_01_14_FirstBlogPost.ipynb\" target=\"_parent\"><img src=\"https://colab.research.google.com/assets/colab-badge.svg\" alt=\"Open In Colab\"/></a>"
      ]
    },
    {
      "cell_type": "code",
      "metadata": {
        "id": "jTghyoVfc3cb"
      },
      "source": [
        ""
      ],
      "execution_count": null,
      "outputs": []
    },
    {
      "cell_type": "markdown",
      "metadata": {
        "id": "WavcgJU3c_xj"
      },
      "source": [
        "# My First Blog Post\r\n",
        "> \"Awesome summary\"\r\n",
        "\r\n",
        "- toc: false\r\n",
        "- branch: master\r\n",
        "- badges: true\r\n",
        "- comments: true\r\n",
        "- categories: [fastpages, jupyter]\r\n",
        "- image: images/some_folder/your_image.png\r\n",
        "- hide: false\r\n",
        "- search_exclude: true\r\n",
        "- metadata_key1: metadata_value1\r\n",
        "- metadata_key2: metadata_value2"
      ]
    }
  ]
}